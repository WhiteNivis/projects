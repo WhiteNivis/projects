{
 "cells": [
  {
   "cell_type": "markdown",
   "id": "1109bb2a",
   "metadata": {},
   "source": [
    "# Parsing мемов"
   ]
  },
  {
   "cell_type": "markdown",
   "id": "45a2e693",
   "metadata": {},
   "source": [
    "## Загрузка"
   ]
  },
  {
   "cell_type": "code",
   "execution_count": 1,
   "id": "6f146f38",
   "metadata": {},
   "outputs": [],
   "source": [
    "import requests\n",
    "import re\n",
    "import pandas as pd\n",
    "import time\n",
    "import sys\n",
    "import tqdm.notebook\n",
    "\n",
    "import socks\n",
    "import socket\n",
    "\n",
    "from bs4 import BeautifulSoup\n",
    "from fake_useragent import UserAgent"
   ]
  },
  {
   "cell_type": "code",
   "execution_count": 2,
   "id": "f7dcb0ef",
   "metadata": {},
   "outputs": [],
   "source": [
    "page_link = 'http://knowyourmeme.com/memes/all/page/1'"
   ]
  },
  {
   "cell_type": "code",
   "execution_count": 3,
   "id": "48e9ea52",
   "metadata": {},
   "outputs": [
    {
     "data": {
      "text/plain": [
       "<Response [403]>"
      ]
     },
     "execution_count": 3,
     "metadata": {},
     "output_type": "execute_result"
    }
   ],
   "source": [
    "response = requests.get(page_link)\n",
    "response"
   ]
  },
  {
   "cell_type": "code",
   "execution_count": 4,
   "id": "1166b43c",
   "metadata": {},
   "outputs": [
    {
     "name": "stdout",
     "output_type": "stream",
     "text": [
      "User-Agent: python-requests/2.28.1\n",
      "Accept-Encoding: gzip, deflate, br\n",
      "Accept: */*\n",
      "Connection: keep-alive\n"
     ]
    }
   ],
   "source": [
    "for key, value in response.request.headers.items():\n",
    "    print(key+\": \"+value)"
   ]
  },
  {
   "cell_type": "code",
   "execution_count": 5,
   "id": "e4574bb3",
   "metadata": {},
   "outputs": [
    {
     "data": {
      "text/plain": [
       "<Response [200]>"
      ]
     },
     "execution_count": 5,
     "metadata": {},
     "output_type": "execute_result"
    }
   ],
   "source": [
    "response = requests.get(page_link, headers={'User-Agent': UserAgent().chrome})\n",
    "response"
   ]
  },
  {
   "cell_type": "code",
   "execution_count": 6,
   "id": "0a321dc6",
   "metadata": {},
   "outputs": [],
   "source": [
    "html = response.content"
   ]
  },
  {
   "cell_type": "markdown",
   "id": "2f1e57de",
   "metadata": {},
   "source": [
    "## Обработка"
   ]
  },
  {
   "cell_type": "markdown",
   "id": "ce89a007",
   "metadata": {},
   "source": [
    "Передадим функции `BeautifulSoup` текст веб-страницы."
   ]
  },
  {
   "cell_type": "code",
   "execution_count": 7,
   "id": "5ddf980c",
   "metadata": {},
   "outputs": [],
   "source": [
    "soup = BeautifulSoup(html,'html.parser') "
   ]
  },
  {
   "cell_type": "code",
   "execution_count": 8,
   "id": "56e3cb47",
   "metadata": {},
   "outputs": [
    {
     "data": {
      "text/plain": [
       "'All Entries | Know Your Meme'"
      ]
     },
     "execution_count": 8,
     "metadata": {},
     "output_type": "execute_result"
    }
   ],
   "source": [
    "soup.html.head.title.text"
   ]
  },
  {
   "cell_type": "code",
   "execution_count": 9,
   "id": "e4bccfe6",
   "metadata": {},
   "outputs": [
    {
     "data": {
      "text/plain": [
       "<a class=\"photo left\" href=\"/memes/padoru\" target=\"_self\"><img alt=\"'Tis the Season for &quot;Padoru&quot;\" fetchpriority=\"low\" height=\"112\" src=\"https://i.kym-cdn.com/featured_items/icons/wide/000/017/730/maxresdefault.jpg\" title=\"You Cannot Escape The Holiday Spirit: Here's A Classic Christmas Meme\" width=\"198\"/> <div class=\"info abs\"> <div class=\"c\"> You Cannot Escape The Holiday Spirit: Here's A Classic Christmas Meme </div> </div> </a>"
      ]
     },
     "execution_count": 9,
     "metadata": {},
     "output_type": "execute_result"
    }
   ],
   "source": [
    "# тег а с атрибутом фото\n",
    "obj = soup.find('a', attrs = {'class':'photo'}) \n",
    "obj"
   ]
  },
  {
   "cell_type": "code",
   "execution_count": 10,
   "id": "0767ea5f",
   "metadata": {},
   "outputs": [
    {
     "data": {
      "text/plain": [
       "<a class=\"photo\" href=\"/memes/adarsh-balak-%E0%A4%86%E0%A4%A6%E0%A4%B0%E0%A5%8D%E0%A4%B6-%E0%A4%AC%E0%A4%BE%E0%A4%B2%E0%A4%95\"><img alt=\"Adarsh Balak / आदर्श बालक\" data-src=\"https://i.kym-cdn.com/entries/icons/medium/000/043/020/adarsh.jpg\" src=\"https://s.kym-cdn.com/assets/blank-b3f96f160b75b1b49b426754ba188fe8.gif\" title=\"Adarsh Balak / आदर्श बालक\"/> <div class=\"entry-labels\"> <span class=\"label label-submission\"> Submission </span> </div> </a>"
      ]
     },
     "execution_count": 10,
     "metadata": {},
     "output_type": "execute_result"
    }
   ],
   "source": [
    "obj = soup.find(lambda tag: tag.name == 'a' and tag.get('class') == ['photo'])\n",
    "obj"
   ]
  },
  {
   "cell_type": "code",
   "execution_count": 11,
   "id": "7d4fc7a1",
   "metadata": {},
   "outputs": [
    {
     "data": {
      "text/plain": [
       "'/memes/adarsh-balak-%E0%A4%86%E0%A4%A6%E0%A4%B0%E0%A5%8D%E0%A4%B6-%E0%A4%AC%E0%A4%BE%E0%A4%B2%E0%A4%95'"
      ]
     },
     "execution_count": 11,
     "metadata": {},
     "output_type": "execute_result"
    }
   ],
   "source": [
    "obj.attrs['href']"
   ]
  },
  {
   "cell_type": "code",
   "execution_count": 12,
   "id": "353d524a",
   "metadata": {},
   "outputs": [
    {
     "name": "stdout",
     "output_type": "stream",
     "text": [
      "Тип данных до вытаскивания ссылки: <class 'bs4.element.Tag'>\n",
      "Тип данных после вытаскивания ссылки: <class 'str'>\n"
     ]
    }
   ],
   "source": [
    "print(\"Тип данных до вытаскивания ссылки:\", type(obj))\n",
    "print(\"Тип данных после вытаскивания ссылки:\", type(obj.attrs['href']))"
   ]
  },
  {
   "cell_type": "code",
   "execution_count": 13,
   "id": "90a9edb8",
   "metadata": {},
   "outputs": [
    {
     "data": {
      "text/plain": [
       "['/memes/adarsh-balak-%E0%A4%86%E0%A4%A6%E0%A4%B0%E0%A5%8D%E0%A4%B6-%E0%A4%AC%E0%A4%BE%E0%A4%B2%E0%A4%95',\n",
       " '/memes/the-shoe-theory',\n",
       " '/memes/she-was-a-x-girl-he-was-a-x-boy',\n",
       " '/memes/que-mira-bobo-anda-palla-bobo',\n",
       " '/memes/poor-ronaldo-girl',\n",
       " '/memes/captain-tsubasa-album-cover-art-parodies',\n",
       " '/memes/moore-public-school-teacher-mr-garrison-snapchat-messages',\n",
       " '/memes/events/medical-assistance-in-dying-maid',\n",
       " '/memes/people/cellbit',\n",
       " '/memes/hansel-getting-photographed-riding-scooter-zoolander',\n",
       " '/memes/events/emory-nurses-ick-challenge-tiktok-controversy',\n",
       " '/memes/subcultures/bluey-tv-series',\n",
       " '/memes/events/ludwig-chessboxing-2022',\n",
       " '/memes/people/temp6t',\n",
       " '/memes/sites/memechat',\n",
       " '/memes/touch-of-the-tism']"
      ]
     },
     "execution_count": 13,
     "metadata": {},
     "output_type": "execute_result"
    }
   ],
   "source": [
    "meme_links = soup.findAll(lambda tag: tag.name == 'a' and tag.get('class') == ['photo'])\n",
    "meme_links = [link.attrs['href'] for link in meme_links]\n",
    "meme_links"
   ]
  },
  {
   "cell_type": "markdown",
   "id": "0f586190",
   "metadata": {},
   "source": [
    "## Выгрузка"
   ]
  },
  {
   "cell_type": "markdown",
   "id": "196e044e",
   "metadata": {},
   "source": [
    "Создадим функцию."
   ]
  },
  {
   "cell_type": "code",
   "execution_count": 14,
   "id": "dce7f3a0",
   "metadata": {},
   "outputs": [],
   "source": [
    "def getPageLinks(page_number):\n",
    "    \"\"\"\n",
    "        Возвращает список ссылок на мемы, полученный с текущей страницы\n",
    "        \n",
    "        page_number: int/string\n",
    "        номер страницы для парсинга.\n",
    "            \n",
    "    \"\"\"\n",
    "    # составляем ссылку на страницу поиска\n",
    "    page_link = 'http://knowyourmeme.com/memes/all/page/{}'.format(page_number)\n",
    "    \n",
    "    # запрашиваем данные\n",
    "    response = requests.get(page_link, headers={'User-Agent': UserAgent().chrome})\n",
    "    \n",
    "    if not response.ok:\n",
    "        # если сервер нам отказал, вернем пустой лист для текущей страницы\n",
    "        return [] \n",
    "    \n",
    "    # получаем содержимое страницы и переводим в суп\n",
    "    html = response.content\n",
    "    soup = BeautifulSoup(html,'html.parser')\n",
    "    \n",
    "    # ищем ссылки на мемы и очищаем их от ненужных тэгов\n",
    "    meme_links = soup.findAll(lambda tag: tag.name == 'a' and tag.get('class') == ['photo'])\n",
    "    meme_links = ['http://knowyourmeme.com' + link.attrs['href'] for link in meme_links]\n",
    "    \n",
    "    return meme_links"
   ]
  },
  {
   "cell_type": "markdown",
   "id": "85192369",
   "metadata": {},
   "source": [
    "Протестируем функцию."
   ]
  },
  {
   "cell_type": "code",
   "execution_count": 15,
   "id": "cb24f428",
   "metadata": {},
   "outputs": [
    {
     "data": {
      "text/plain": [
       "['http://knowyourmeme.com/memes/adarsh-balak-%E0%A4%86%E0%A4%A6%E0%A4%B0%E0%A5%8D%E0%A4%B6-%E0%A4%AC%E0%A4%BE%E0%A4%B2%E0%A4%95',\n",
       " 'http://knowyourmeme.com/memes/the-shoe-theory']"
      ]
     },
     "execution_count": 15,
     "metadata": {},
     "output_type": "execute_result"
    }
   ],
   "source": [
    "meme_links = getPageLinks(1)\n",
    "meme_links[:2]"
   ]
  },
  {
   "cell_type": "markdown",
   "id": "a9846440",
   "metadata": {},
   "source": [
    "Выгрузка дополнительной информации на примере мема `doge`."
   ]
  },
  {
   "cell_type": "code",
   "execution_count": 16,
   "id": "23db6265",
   "metadata": {},
   "outputs": [],
   "source": [
    "meme_page = 'http://knowyourmeme.com/memes/doge'\n",
    "\n",
    "response = requests.get(meme_page, headers={'User-Agent': UserAgent().chrome})\n",
    "\n",
    "html = response.content\n",
    "soup = BeautifulSoup(html,'html.parser')"
   ]
  },
  {
   "cell_type": "markdown",
   "id": "13cb82c7",
   "metadata": {},
   "source": [
    "Посмотрим, как можно вытащить статистику просмотров, комментариев, а также числа загруженных видео и фото, связанных с нашим мемом."
   ]
  },
  {
   "cell_type": "code",
   "execution_count": 17,
   "id": "314f237a",
   "metadata": {},
   "outputs": [
    {
     "data": {
      "text/plain": [
       "<dd class=\"views\" title=\"14,000,576 Views\">\n",
       "<a href=\"/memes/doge\" rel=\"nofollow\">14,000,576</a>\n",
       "</dd>"
      ]
     },
     "execution_count": 17,
     "metadata": {},
     "output_type": "execute_result"
    }
   ],
   "source": [
    "views = soup.find('dd', attrs={'class':'views'})\n",
    "views"
   ]
  },
  {
   "cell_type": "code",
   "execution_count": 18,
   "id": "0e5349c7",
   "metadata": {},
   "outputs": [
    {
     "data": {
      "text/plain": [
       "'14,000,576'"
      ]
     },
     "execution_count": 18,
     "metadata": {},
     "output_type": "execute_result"
    }
   ],
   "source": [
    "views = views.find('a').text\n",
    "views"
   ]
  },
  {
   "cell_type": "code",
   "execution_count": 19,
   "id": "ff387819",
   "metadata": {},
   "outputs": [
    {
     "data": {
      "text/plain": [
       "14000576"
      ]
     },
     "execution_count": 19,
     "metadata": {},
     "output_type": "execute_result"
    }
   ],
   "source": [
    "views = int(views.replace(',', ''))\n",
    "views"
   ]
  },
  {
   "cell_type": "code",
   "execution_count": 20,
   "id": "6789f367",
   "metadata": {},
   "outputs": [],
   "source": [
    "def getStats(soup, stats):\n",
    "    \"\"\"\n",
    "        Возвращает очищенное число просмотров/коментариев/...\n",
    "        \n",
    "        soup: объект bs4.BeautifulSoup \n",
    "            суп текущей страницы\n",
    "            \n",
    "        stats: string\n",
    "            views/videos/photos/comments\n",
    "            \n",
    "    \"\"\"\n",
    "    try:\n",
    "        obj = soup.find('dd', attrs={'class':stats})\n",
    "        obj = obj.find('a').text\n",
    "        obj = int(obj.replace(',', ''))\n",
    "    except:\n",
    "        obj=None\n",
    "    \n",
    "    return obj"
   ]
  },
  {
   "cell_type": "code",
   "execution_count": 21,
   "id": "226c478c",
   "metadata": {},
   "outputs": [
    {
     "name": "stdout",
     "output_type": "stream",
     "text": [
      "Просмотры: 14000576\n",
      "Видео: 104\n",
      "Фото: 1792\n",
      "Комментарии: 924\n"
     ]
    }
   ],
   "source": [
    "views = getStats(soup, stats='views')\n",
    "videos = getStats(soup, stats='videos')\n",
    "photos = getStats(soup, stats='photos')\n",
    "comments = getStats(soup, stats='comments')\n",
    "\n",
    "print(\"Просмотры: {}\\nВидео: {}\\nФото: {}\\nКомментарии: {}\".format(views, videos, photos, comments))"
   ]
  },
  {
   "cell_type": "markdown",
   "id": "17e540cf",
   "metadata": {},
   "source": [
    "Достанем дату и время обновления и создания мема."
   ]
  },
  {
   "cell_type": "code",
   "execution_count": 22,
   "id": "581d6270",
   "metadata": {},
   "outputs": [
    {
     "data": {
      "text/plain": [
       "'2021-05-25T15:42:58-04:00'"
      ]
     },
     "execution_count": 22,
     "metadata": {},
     "output_type": "execute_result"
    }
   ],
   "source": [
    "date = soup.find('abbr', attrs={'class':'timeago'}).attrs['title']\n",
    "date"
   ]
  },
  {
   "cell_type": "code",
   "execution_count": 23,
   "id": "d542a45e",
   "metadata": {},
   "outputs": [
    {
     "data": {
      "text/plain": [
       "'2013-07-24T16:29:55-04:00'"
      ]
     },
     "execution_count": 23,
     "metadata": {},
     "output_type": "execute_result"
    }
   ],
   "source": [
    "date = soup.find(text='\\nAdded\\n').parent.find_next().attrs['title']\n",
    "date"
   ]
  },
  {
   "cell_type": "markdown",
   "id": "5602878a",
   "metadata": {},
   "source": [
    "Общая функция."
   ]
  },
  {
   "cell_type": "code",
   "execution_count": 24,
   "id": "d41dbc4e",
   "metadata": {},
   "outputs": [],
   "source": [
    "def getProperties(soup):\n",
    "    \"\"\"\n",
    "        Возвращает список (tuple) с названием, статусом, типом, \n",
    "        годом и местом происхождения и тэгами\n",
    "        \n",
    "        soup: объект bs4.BeautifulSoup \n",
    "        суп текущей страницы.\n",
    "    \n",
    "    \"\"\"\n",
    "    # название - идёт с самым большим заголовком h1\n",
    "    meme_name = soup.find('section', attrs={'class':'info'}).find('h1').text.strip()\n",
    "    \n",
    "    # достаём все данные справа от картинки \n",
    "    properties = soup.find('aside', attrs={'class':'left'})\n",
    "    \n",
    "    # статус \n",
    "    meme_status = properties.find(\"dd\")\n",
    "    meme_status = \"\" if not meme_status else meme_status.text.strip()\n",
    "    \n",
    "\n",
    "    meme_type = properties.find('a', attrs={'class':'entry-type-link'})\n",
    "    meme_type = \"\" if not meme_type else meme_type.text \n",
    "    \n",
    "\n",
    "    meme_origin_year = properties.find(text='\\nYear\\n')\n",
    "    meme_origin_year = \"\" if not meme_origin_year else meme_origin_year.parent.find_next()\n",
    "    meme_origin_year = meme_origin_year.text.strip()\n",
    "    \n",
    "    # первоисточник\n",
    "    meme_origin_place = properties.find('dd', attrs={'class':'entry_origin_link'})\n",
    "    meme_origin_place = \"\" if not meme_origin_place else meme_origin_place.text.strip()\n",
    "    \n",
    "    # тэги, связанные с мемом\n",
    "    meme_tags = properties.find('dl', attrs={'id':'entry_tags'}).find('dd')\n",
    "    meme_tags = \"\" if not meme_tags else meme_tags.text.strip()\n",
    "    \n",
    "    return meme_name, meme_status, meme_type, meme_origin_year, meme_origin_place, meme_tags"
   ]
  },
  {
   "cell_type": "code",
   "execution_count": 25,
   "id": "7322a928",
   "metadata": {},
   "outputs": [
    {
     "data": {
      "text/plain": [
       "('Doge',\n",
       " 'Confirmed',\n",
       " 'Animal',\n",
       " '2010',\n",
       " 'Tumblr',\n",
       " 'animal, dog, shiba inu, shibe, such doge, super shibe, japanese, super, tumblr, much, very, many, comic sans, photoshop meme, such, shiba, shibe doge, doges, dogges, reddit, comic sans ms, tumblr meme, hacked, bitcoin, dogecoin, shitposting, stare, canine')"
      ]
     },
     "execution_count": 25,
     "metadata": {},
     "output_type": "execute_result"
    }
   ],
   "source": [
    "getProperties(soup)"
   ]
  },
  {
   "cell_type": "markdown",
   "id": "17e21701",
   "metadata": {},
   "source": [
    "Текстовое описание мема."
   ]
  },
  {
   "cell_type": "code",
   "execution_count": 26,
   "id": "2b2ae1bb",
   "metadata": {},
   "outputs": [],
   "source": [
    "def getText(soup):\n",
    "    \"\"\"\n",
    "        Возвращает текстовые описания мема\n",
    "        \n",
    "        soup: объект bs4.BeautifulSoup \n",
    "        суп текущей страницы.\n",
    "            \n",
    "    \"\"\"\n",
    "    \n",
    "    # достаём все тексты под картинкой\n",
    "    body = soup.find('section', attrs={'class':'bodycopy'})\n",
    "    \n",
    "    # раздел about (если он есть), должен идти первым\n",
    "    meme_about = body.find('p')\n",
    "    meme_about = \"\" if not meme_about else meme_about.text\n",
    "    \n",
    "    # раздел origin можно найти после заголовка Origin или History, \n",
    "\n",
    "    meme_origin = body.find(text='Origin') or body.find(text='History')\n",
    "    meme_origin = \"\" if not meme_origin else meme_origin.parent.find_next().text\n",
    "    \n",
    "    # весь остальной текст (если он есть) можно добавить в одно текстовое поле\n",
    "    if body.text:\n",
    "        other_text = body.text.strip().split('\\n')[4:]\n",
    "        other_text = \" \".join(other_text).strip()\n",
    "    else:\n",
    "        other_text = \"\"\n",
    "        \n",
    "    return meme_about, meme_origin, other_text"
   ]
  },
  {
   "cell_type": "code",
   "execution_count": 27,
   "id": "8ac28728",
   "metadata": {},
   "outputs": [
    {
     "name": "stdout",
     "output_type": "stream",
     "text": [
      "О чем мем:\n",
      "Doge (pronounced /ˈdoʊdʒ/ DOHJ) is a slang term for \"dog\" that is primarily associated with pictures of Shiba Inus (nicknamed \"Shibe\") and internal monologue captions on Tumblr. These photos may be photoshopped to change the dog's face or captioned with interior monologues in Comic Sans font. Starting in 2017, Ironic Doge formats gained prevalence over the original wholesome version.\n",
      "\n",
      "Происхождение:\n",
      "The use of the misspelled word \"doge\" to refer to a dog dates back to June 24th, 2005, when it was mentioned in an episode of Homestar Runner's puppet show. In the episode titled \"Biz Cas Fri 1\"[2], Homestar calls Strong Bad his \"d-o-g-e\" while trying to distract him from his work.\n",
      "\n",
      "Остальной текст:\n",
      "The use of the misspelled word \"doge\" to refer to a dog dates back to June 24th, 2005, when it was mentioned in an episode of Homestar Runner's puppet show. In the episode titled \"Biz Cas Fri 1\"[2], H...\n",
      "\n"
     ]
    }
   ],
   "source": [
    "meme_about, meme_origin, other_text = getText(soup)\n",
    "\n",
    "print(\"О чем мем:\\n{}\\n\\nПроисхождение:\\n{}\\n\\nОстальной текст:\\n{}...\\n\"\\\n",
    "      .format(meme_about, meme_origin, other_text[:200]))"
   ]
  },
  {
   "cell_type": "markdown",
   "id": "2c6459fe",
   "metadata": {},
   "source": [
    "Вся информация по текущему мему."
   ]
  },
  {
   "cell_type": "code",
   "execution_count": 28,
   "id": "fb0ad563",
   "metadata": {},
   "outputs": [],
   "source": [
    "def getMemeData(meme_page):\n",
    "    \"\"\"\n",
    "        Запрашивает данные по странице, возвращает обработанный словарь с данными\n",
    "        \n",
    "        meme_page: string\n",
    "        ссылка на страницу с мемом.\n",
    "    \n",
    "    \"\"\"\n",
    "    \n",
    "    # запрашиваем данные по ссылке\n",
    "    response = requests.get(meme_page, headers={'User-Agent': UserAgent().chrome})\n",
    "    \n",
    "    if not response.ok:\n",
    "        # если сервер нам отказал, вернем статус ошибки \n",
    "        return response.status_code\n",
    "    \n",
    "    # получаем содержимое страницы и переводим в суп\n",
    "    html = response.content\n",
    "    soup = BeautifulSoup(html,'html.parser')\n",
    "\n",
    "    # используя ранее написанные функции парсим информацию\n",
    "    views = getStats(soup=soup, stats='views')\n",
    "    videos = getStats(soup=soup, stats='videos')\n",
    "    photos = getStats(soup=soup, stats='photos')\n",
    "    comments = getStats(soup=soup, stats='comments')\n",
    "\n",
    "    # дата создания\n",
    "    date = soup.find(text='\\nAdded\\n').parent.find_next().attrs['title']\n",
    "\n",
    "    # имя, статус, и т.д.\n",
    "    meme_name, meme_status, meme_type, meme_origin_year, meme_origin_place, meme_tags =\\\n",
    "    getProperties(soup=soup)\n",
    "\n",
    "    # текстовые поля\n",
    "    meme_about, meme_origin, other_text = getText(soup=soup)\n",
    "\n",
    "    # составляем словарь, в котором будут хранится все полученные и обработанные данные\n",
    "    data_row = {\"name\":meme_name, \"status\":meme_status, \n",
    "                \"type\":meme_type, \"origin_year\":meme_origin_year, \n",
    "                \"origin_place\":meme_origin_place,\n",
    "                \"date_added\":date, \"views\":views, \n",
    "                \"videos\":videos, \"photos\":photos, \"comments\":comments, \"tags\":meme_tags,\n",
    "                \"about\":meme_about, \"origin\":meme_origin, \"other_text\":other_text}\n",
    "\n",
    "    return data_row"
   ]
  },
  {
   "cell_type": "code",
   "execution_count": 29,
   "id": "0bd01800",
   "metadata": {},
   "outputs": [],
   "source": [
    "data_row = getMemeData('http://knowyourmeme.com/memes/doge')"
   ]
  },
  {
   "cell_type": "markdown",
   "id": "f8d92866",
   "metadata": {},
   "source": [
    "Подготовка таблицы."
   ]
  },
  {
   "cell_type": "code",
   "execution_count": 30,
   "id": "26729c05",
   "metadata": {},
   "outputs": [],
   "source": [
    "data_row\n",
    "final_df = pd.DataFrame([data_row])"
   ]
  },
  {
   "cell_type": "code",
   "execution_count": 31,
   "id": "f84fa262",
   "metadata": {
    "scrolled": true
   },
   "outputs": [
    {
     "data": {
      "text/html": [
       "<div>\n",
       "<style scoped>\n",
       "    .dataframe tbody tr th:only-of-type {\n",
       "        vertical-align: middle;\n",
       "    }\n",
       "\n",
       "    .dataframe tbody tr th {\n",
       "        vertical-align: top;\n",
       "    }\n",
       "\n",
       "    .dataframe thead th {\n",
       "        text-align: right;\n",
       "    }\n",
       "</style>\n",
       "<table border=\"1\" class=\"dataframe\">\n",
       "  <thead>\n",
       "    <tr style=\"text-align: right;\">\n",
       "      <th></th>\n",
       "      <th>name</th>\n",
       "      <th>status</th>\n",
       "      <th>type</th>\n",
       "      <th>origin_year</th>\n",
       "      <th>origin_place</th>\n",
       "      <th>date_added</th>\n",
       "      <th>views</th>\n",
       "      <th>videos</th>\n",
       "      <th>photos</th>\n",
       "      <th>comments</th>\n",
       "      <th>tags</th>\n",
       "      <th>about</th>\n",
       "      <th>origin</th>\n",
       "      <th>other_text</th>\n",
       "    </tr>\n",
       "  </thead>\n",
       "  <tbody>\n",
       "    <tr>\n",
       "      <th>0</th>\n",
       "      <td>Doge</td>\n",
       "      <td>Confirmed</td>\n",
       "      <td>Animal</td>\n",
       "      <td>2010</td>\n",
       "      <td>Tumblr</td>\n",
       "      <td>2013-07-24T16:29:55-04:00</td>\n",
       "      <td>14000576</td>\n",
       "      <td>104</td>\n",
       "      <td>1792</td>\n",
       "      <td>924</td>\n",
       "      <td>animal, dog, shiba inu, shibe, such doge, supe...</td>\n",
       "      <td>Doge (pronounced /ˈdoʊdʒ/ DOHJ) is a slang ter...</td>\n",
       "      <td>The use of the misspelled word \"doge\" to refer...</td>\n",
       "      <td>The use of the misspelled word \"doge\" to refer...</td>\n",
       "    </tr>\n",
       "  </tbody>\n",
       "</table>\n",
       "</div>"
      ],
      "text/plain": [
       "   name     status    type origin_year origin_place  \\\n",
       "0  Doge  Confirmed  Animal        2010       Tumblr   \n",
       "\n",
       "                  date_added     views  videos  photos  comments  \\\n",
       "0  2013-07-24T16:29:55-04:00  14000576     104    1792       924   \n",
       "\n",
       "                                                tags  \\\n",
       "0  animal, dog, shiba inu, shibe, such doge, supe...   \n",
       "\n",
       "                                               about  \\\n",
       "0  Doge (pronounced /ˈdoʊdʒ/ DOHJ) is a slang ter...   \n",
       "\n",
       "                                              origin  \\\n",
       "0  The use of the misspelled word \"doge\" to refer...   \n",
       "\n",
       "                                          other_text  \n",
       "0  The use of the misspelled word \"doge\" to refer...  "
      ]
     },
     "execution_count": 31,
     "metadata": {},
     "output_type": "execute_result"
    }
   ],
   "source": [
    "final_df"
   ]
  },
  {
   "cell_type": "code",
   "execution_count": 32,
   "id": "278ad0c5",
   "metadata": {},
   "outputs": [
    {
     "data": {
      "application/vnd.jupyter.widget-view+json": {
       "model_id": "1aeb3627dd424d778ceac7711cd911a1",
       "version_major": 2,
       "version_minor": 0
      },
      "text/plain": [
       "  0%|          | 0/16 [00:00<?, ?it/s]"
      ]
     },
     "metadata": {},
     "output_type": "display_data"
    },
    {
     "data": {
      "text/html": [
       "<div>\n",
       "<style scoped>\n",
       "    .dataframe tbody tr th:only-of-type {\n",
       "        vertical-align: middle;\n",
       "    }\n",
       "\n",
       "    .dataframe tbody tr th {\n",
       "        vertical-align: top;\n",
       "    }\n",
       "\n",
       "    .dataframe thead th {\n",
       "        text-align: right;\n",
       "    }\n",
       "</style>\n",
       "<table border=\"1\" class=\"dataframe\">\n",
       "  <thead>\n",
       "    <tr style=\"text-align: right;\">\n",
       "      <th></th>\n",
       "      <th>name</th>\n",
       "      <th>status</th>\n",
       "      <th>type</th>\n",
       "      <th>origin_year</th>\n",
       "      <th>origin_place</th>\n",
       "      <th>date_added</th>\n",
       "      <th>views</th>\n",
       "      <th>videos</th>\n",
       "      <th>photos</th>\n",
       "      <th>comments</th>\n",
       "      <th>tags</th>\n",
       "      <th>about</th>\n",
       "      <th>origin</th>\n",
       "      <th>other_text</th>\n",
       "    </tr>\n",
       "  </thead>\n",
       "  <tbody>\n",
       "    <tr>\n",
       "      <th>0</th>\n",
       "      <td>Adarsh Balak / आदर्श बालक</td>\n",
       "      <td>Submission</td>\n",
       "      <td>Parody</td>\n",
       "      <td>2014</td>\n",
       "      <td>Facebook</td>\n",
       "      <td>2022-12-13T12:10:32-05:00</td>\n",
       "      <td>11</td>\n",
       "      <td>0</td>\n",
       "      <td>6</td>\n",
       "      <td>0</td>\n",
       "      <td>adarsh balak, comic</td>\n",
       "      <td>Adarsh Balak, also known by its Hindi transcri...</td>\n",
       "      <td></td>\n",
       "      <td>On May 3rd, 2014, Adarsh Balak's official Face...</td>\n",
       "    </tr>\n",
       "    <tr>\n",
       "      <th>1</th>\n",
       "      <td>The Shoe Theory</td>\n",
       "      <td>Submission</td>\n",
       "      <td>Lip Dub</td>\n",
       "      <td>2022</td>\n",
       "      <td>TikTok</td>\n",
       "      <td>2022-12-13T12:06:30-05:00</td>\n",
       "      <td>9</td>\n",
       "      <td>6</td>\n",
       "      <td>0</td>\n",
       "      <td>0</td>\n",
       "      <td>shoes bad luck, shoe gift bad luck, bad omen s...</td>\n",
       "      <td>The Shoe Theory is a superstition that claims ...</td>\n",
       "      <td>The idea of shoes being bad luck as gifts has ...</td>\n",
       "      <td>Shoes are considered to be evil in Chinese cul...</td>\n",
       "    </tr>\n",
       "    <tr>\n",
       "      <th>2</th>\n",
       "      <td>She Was A X Girl He Was A X Boy</td>\n",
       "      <td>Submission</td>\n",
       "      <td>Exploitable</td>\n",
       "      <td>2022</td>\n",
       "      <td>Twitter</td>\n",
       "      <td>2022-12-13T11:07:04-05:00</td>\n",
       "      <td>98</td>\n",
       "      <td>0</td>\n",
       "      <td>11</td>\n",
       "      <td>0</td>\n",
       "      <td>she was a x girl, he was a x boy, she was a sp...</td>\n",
       "      <td>She Was A X Girl, He Was A X Boy is an exploit...</td>\n",
       "      <td>On November 22nd, 2022, Twitter[1] account @YT...</td>\n",
       "      <td>Spread On November 28th, 2022, Instagram[3] pa...</td>\n",
       "    </tr>\n",
       "    <tr>\n",
       "      <th>3</th>\n",
       "      <td>Qué Mira, Bobo? / Anda Palla Bobo</td>\n",
       "      <td>Submission</td>\n",
       "      <td>Viral Video</td>\n",
       "      <td>2022</td>\n",
       "      <td>Twitter</td>\n",
       "      <td>2022-12-13T09:47:55-05:00</td>\n",
       "      <td>173</td>\n",
       "      <td>0</td>\n",
       "      <td>7</td>\n",
       "      <td>0</td>\n",
       "      <td>twitter, messi, argentina, qatar world cup, ne...</td>\n",
       "      <td>Qué Mira, Bobo? or Anda Palla Bobo refers to a...</td>\n",
       "      <td>On December 10th, 2022, the Argentine National...</td>\n",
       "      <td>“Que miras bobo”DOBLAJE LATINO JAJAJA pic.twit...</td>\n",
       "    </tr>\n",
       "    <tr>\n",
       "      <th>4</th>\n",
       "      <td>Poor Ronaldo Girl</td>\n",
       "      <td>Submission</td>\n",
       "      <td>Catchphrase</td>\n",
       "      <td>Unknown</td>\n",
       "      <td>Unknown</td>\n",
       "      <td>2022-12-13T08:59:38-05:00</td>\n",
       "      <td>316</td>\n",
       "      <td>18</td>\n",
       "      <td>0</td>\n",
       "      <td>0</td>\n",
       "      <td>poor ronaldo, ronaldo, cristiano ronaldo, girl...</td>\n",
       "      <td>The Poor Ronaldo Girl refers to a viral video ...</td>\n",
       "      <td>On December 11th, 2022, the TikTok[1] account ...</td>\n",
       "      <td>\"Portugal airport is that way. And where's Ron...</td>\n",
       "    </tr>\n",
       "  </tbody>\n",
       "</table>\n",
       "</div>"
      ],
      "text/plain": [
       "                                name      status         type origin_year  \\\n",
       "0          Adarsh Balak / आदर्श बालक  Submission       Parody        2014   \n",
       "1                    The Shoe Theory  Submission      Lip Dub        2022   \n",
       "2    She Was A X Girl He Was A X Boy  Submission  Exploitable        2022   \n",
       "3  Qué Mira, Bobo? / Anda Palla Bobo  Submission  Viral Video        2022   \n",
       "4                  Poor Ronaldo Girl  Submission  Catchphrase     Unknown   \n",
       "\n",
       "  origin_place                 date_added  views  videos  photos  comments  \\\n",
       "0     Facebook  2022-12-13T12:10:32-05:00     11       0       6         0   \n",
       "1       TikTok  2022-12-13T12:06:30-05:00      9       6       0         0   \n",
       "2      Twitter  2022-12-13T11:07:04-05:00     98       0      11         0   \n",
       "3      Twitter  2022-12-13T09:47:55-05:00    173       0       7         0   \n",
       "4      Unknown  2022-12-13T08:59:38-05:00    316      18       0         0   \n",
       "\n",
       "                                                tags  \\\n",
       "0                                adarsh balak, comic   \n",
       "1  shoes bad luck, shoe gift bad luck, bad omen s...   \n",
       "2  she was a x girl, he was a x boy, she was a sp...   \n",
       "3  twitter, messi, argentina, qatar world cup, ne...   \n",
       "4  poor ronaldo, ronaldo, cristiano ronaldo, girl...   \n",
       "\n",
       "                                               about  \\\n",
       "0  Adarsh Balak, also known by its Hindi transcri...   \n",
       "1  The Shoe Theory is a superstition that claims ...   \n",
       "2  She Was A X Girl, He Was A X Boy is an exploit...   \n",
       "3  Qué Mira, Bobo? or Anda Palla Bobo refers to a...   \n",
       "4  The Poor Ronaldo Girl refers to a viral video ...   \n",
       "\n",
       "                                              origin  \\\n",
       "0                                                      \n",
       "1  The idea of shoes being bad luck as gifts has ...   \n",
       "2  On November 22nd, 2022, Twitter[1] account @YT...   \n",
       "3  On December 10th, 2022, the Argentine National...   \n",
       "4  On December 11th, 2022, the TikTok[1] account ...   \n",
       "\n",
       "                                          other_text  \n",
       "0  On May 3rd, 2014, Adarsh Balak's official Face...  \n",
       "1  Shoes are considered to be evil in Chinese cul...  \n",
       "2  Spread On November 28th, 2022, Instagram[3] pa...  \n",
       "3  “Que miras bobo”DOBLAJE LATINO JAJAJA pic.twit...  \n",
       "4  \"Portugal airport is that way. And where's Ron...  "
      ]
     },
     "execution_count": 32,
     "metadata": {},
     "output_type": "execute_result"
    }
   ],
   "source": [
    "data = pd.DataFrame()\n",
    "for meme_link in tqdm.notebook.tqdm(meme_links):\n",
    "    data_row = getMemeData(meme_link)\n",
    "    final_df = pd.DataFrame([data_row])\n",
    "    data = pd.concat([data, final_df], ignore_index=True)       \n",
    "data.head()"
   ]
  },
  {
   "cell_type": "markdown",
   "id": "a22a664a",
   "metadata": {},
   "source": [
    "## Изменение ip через TOR"
   ]
  },
  {
   "cell_type": "markdown",
   "id": "a32beafb",
   "metadata": {},
   "source": [
    "Дальнейший код требует работы Tor Browser."
   ]
  },
  {
   "cell_type": "code",
   "execution_count": 33,
   "id": "c0be8531",
   "metadata": {},
   "outputs": [],
   "source": [
    "def checkIP():\n",
    "    ip = requests.get('http://checkip.dyndns.org').content\n",
    "    soup = BeautifulSoup(ip, 'html.parser')\n",
    "    print(soup.find('body').text)"
   ]
  },
  {
   "cell_type": "code",
   "execution_count": 34,
   "id": "bf427fca",
   "metadata": {},
   "outputs": [],
   "source": [
    "socks.set_default_proxy(socks.SOCKS5, \"localhost\", 9150)\n",
    "socket.socket = socks.socksocket"
   ]
  },
  {
   "cell_type": "code",
   "execution_count": 35,
   "id": "81258d02",
   "metadata": {},
   "outputs": [
    {
     "name": "stdout",
     "output_type": "stream",
     "text": [
      "Current IP Address: 93.95.226.212\n",
      "Current IP Address: 75.63.67.35\n",
      "Current IP Address: 185.14.97.176\n",
      "Current IP Address: 185.220.101.44\n",
      "Current IP Address: 185.220.102.248\n"
     ]
    }
   ],
   "source": [
    "# файл torrc\n",
    "# настройки\n",
    "# CircuitBuildTimeout 10\n",
    "# LearnCircuitBuildTimeout 0\n",
    "# MaxCircuitDirtiness 10\n",
    "\n",
    "for i in range(5):\n",
    "    checkIP()\n",
    "    time.sleep(10)"
   ]
  },
  {
   "cell_type": "markdown",
   "id": "98120d44",
   "metadata": {},
   "source": [
    "Финальная выгрузка."
   ]
  },
  {
   "cell_type": "code",
   "execution_count": 36,
   "id": "57ca0493",
   "metadata": {
    "scrolled": true
   },
   "outputs": [
    {
     "name": "stdout",
     "output_type": "stream",
     "text": [
      "номер страницы:  1\n"
     ]
    },
    {
     "data": {
      "application/vnd.jupyter.widget-view+json": {
       "model_id": "7c6309282fbd413d853ffd6278dfaab4",
       "version_major": 2,
       "version_minor": 0
      },
      "text/plain": [
       "  0%|          | 0/16 [00:00<?, ?it/s]"
      ]
     },
     "metadata": {},
     "output_type": "display_data"
    },
    {
     "name": "stdout",
     "output_type": "stream",
     "text": [
      "номер страницы:  2\n"
     ]
    },
    {
     "data": {
      "application/vnd.jupyter.widget-view+json": {
       "model_id": "a01fe2f9bbe349c1b509fe50d4a97d01",
       "version_major": 2,
       "version_minor": 0
      },
      "text/plain": [
       "  0%|          | 0/16 [00:00<?, ?it/s]"
      ]
     },
     "metadata": {},
     "output_type": "display_data"
    },
    {
     "name": "stdout",
     "output_type": "stream",
     "text": [
      "номер страницы:  3\n"
     ]
    },
    {
     "data": {
      "application/vnd.jupyter.widget-view+json": {
       "model_id": "70107409845540d8bd957f1ab8b19cb9",
       "version_major": 2,
       "version_minor": 0
      },
      "text/plain": [
       "  0%|          | 0/16 [00:00<?, ?it/s]"
      ]
     },
     "metadata": {},
     "output_type": "display_data"
    },
    {
     "name": "stdout",
     "output_type": "stream",
     "text": [
      "номер страницы:  4\n"
     ]
    },
    {
     "data": {
      "application/vnd.jupyter.widget-view+json": {
       "model_id": "1cfe5eea4307497e98358ca3331a4d8d",
       "version_major": 2,
       "version_minor": 0
      },
      "text/plain": [
       "  0%|          | 0/16 [00:00<?, ?it/s]"
      ]
     },
     "metadata": {},
     "output_type": "display_data"
    },
    {
     "name": "stdout",
     "output_type": "stream",
     "text": [
      "номер страницы:  5\n"
     ]
    },
    {
     "data": {
      "application/vnd.jupyter.widget-view+json": {
       "model_id": "c4bd45d7bcd14733a1409f4cbba6e72f",
       "version_major": 2,
       "version_minor": 0
      },
      "text/plain": [
       "  0%|          | 0/16 [00:00<?, ?it/s]"
      ]
     },
     "metadata": {},
     "output_type": "display_data"
    },
    {
     "name": "stdout",
     "output_type": "stream",
     "text": [
      "номер страницы:  6\n"
     ]
    },
    {
     "data": {
      "application/vnd.jupyter.widget-view+json": {
       "model_id": "45d83cb56c69458ba12d0bd2741e2684",
       "version_major": 2,
       "version_minor": 0
      },
      "text/plain": [
       "  0%|          | 0/16 [00:00<?, ?it/s]"
      ]
     },
     "metadata": {},
     "output_type": "display_data"
    },
    {
     "name": "stdout",
     "output_type": "stream",
     "text": [
      "номер страницы:  7\n"
     ]
    },
    {
     "data": {
      "application/vnd.jupyter.widget-view+json": {
       "model_id": "c54c304dfc43421a9d6ba43240ce92c3",
       "version_major": 2,
       "version_minor": 0
      },
      "text/plain": [
       "  0%|          | 0/16 [00:00<?, ?it/s]"
      ]
     },
     "metadata": {},
     "output_type": "display_data"
    },
    {
     "name": "stdout",
     "output_type": "stream",
     "text": [
      "номер страницы:  8\n"
     ]
    },
    {
     "data": {
      "application/vnd.jupyter.widget-view+json": {
       "model_id": "53ee84f551f04a0eafb4e171f821d875",
       "version_major": 2,
       "version_minor": 0
      },
      "text/plain": [
       "  0%|          | 0/16 [00:00<?, ?it/s]"
      ]
     },
     "metadata": {},
     "output_type": "display_data"
    },
    {
     "name": "stdout",
     "output_type": "stream",
     "text": [
      "номер страницы:  9\n"
     ]
    },
    {
     "data": {
      "application/vnd.jupyter.widget-view+json": {
       "model_id": "5edd08243b11403e85c31fed230f9cd3",
       "version_major": 2,
       "version_minor": 0
      },
      "text/plain": [
       "  0%|          | 0/16 [00:00<?, ?it/s]"
      ]
     },
     "metadata": {},
     "output_type": "display_data"
    },
    {
     "name": "stdout",
     "output_type": "stream",
     "text": [
      "номер страницы:  10\n"
     ]
    },
    {
     "data": {
      "application/vnd.jupyter.widget-view+json": {
       "model_id": "47fc8c38b18c4857bb1fac709f09e902",
       "version_major": 2,
       "version_minor": 0
      },
      "text/plain": [
       "  0%|          | 0/16 [00:00<?, ?it/s]"
      ]
     },
     "metadata": {},
     "output_type": "display_data"
    }
   ],
   "source": [
    "data = pd.DataFrame()\n",
    "PAGE_START = 1\n",
    "PAGE_END = 10\n",
    "\n",
    "for page_number in range(PAGE_START, PAGE_END+1):\n",
    "    print('номер страницы: ', page_number)    \n",
    "    for i in range(5):\n",
    "            meme_links = getPageLinks(page_number)  \n",
    "            if meme_links:\n",
    "                break\n",
    "            else:\n",
    "                time.sleep(20)\n",
    "        \n",
    "    for meme_link in tqdm.notebook.tqdm(meme_links):\n",
    "        for i in range(5):\n",
    "            try:\n",
    "                data_row = getMemeData(meme_link)           \n",
    "                final_df = pd.DataFrame([data_row])\n",
    "                data = pd.concat([data, final_df], ignore_index=True)  \n",
    "                break\n",
    "            except:\n",
    "                time.sleep(20)\n",
    "                continue \n",
    "    \n",
    "    data.to_csv('MEMES_{}_{}.csv'.format(PAGE_START, PAGE_END))"
   ]
  },
  {
   "cell_type": "code",
   "execution_count": 37,
   "id": "440b7bab",
   "metadata": {
    "scrolled": true
   },
   "outputs": [
    {
     "data": {
      "text/html": [
       "<div>\n",
       "<style scoped>\n",
       "    .dataframe tbody tr th:only-of-type {\n",
       "        vertical-align: middle;\n",
       "    }\n",
       "\n",
       "    .dataframe tbody tr th {\n",
       "        vertical-align: top;\n",
       "    }\n",
       "\n",
       "    .dataframe thead th {\n",
       "        text-align: right;\n",
       "    }\n",
       "</style>\n",
       "<table border=\"1\" class=\"dataframe\">\n",
       "  <thead>\n",
       "    <tr style=\"text-align: right;\">\n",
       "      <th></th>\n",
       "      <th>name</th>\n",
       "      <th>status</th>\n",
       "      <th>type</th>\n",
       "      <th>origin_year</th>\n",
       "      <th>origin_place</th>\n",
       "      <th>date_added</th>\n",
       "      <th>views</th>\n",
       "      <th>videos</th>\n",
       "      <th>photos</th>\n",
       "      <th>comments</th>\n",
       "      <th>tags</th>\n",
       "      <th>about</th>\n",
       "      <th>origin</th>\n",
       "      <th>other_text</th>\n",
       "      <th>0</th>\n",
       "    </tr>\n",
       "  </thead>\n",
       "  <tbody>\n",
       "    <tr>\n",
       "      <th>0</th>\n",
       "      <td>Adarsh Balak / आदर्श बालक</td>\n",
       "      <td>Submission</td>\n",
       "      <td>Parody</td>\n",
       "      <td>2014</td>\n",
       "      <td>Facebook</td>\n",
       "      <td>2022-12-13T12:10:32-05:00</td>\n",
       "      <td>13.0</td>\n",
       "      <td>0.0</td>\n",
       "      <td>8.0</td>\n",
       "      <td>0.0</td>\n",
       "      <td>adarsh balak, comic</td>\n",
       "      <td>Adarsh Balak, also known by its Hindi transcri...</td>\n",
       "      <td></td>\n",
       "      <td>On May 3rd, 2014, Adarsh Balak's official Face...</td>\n",
       "      <td>NaN</td>\n",
       "    </tr>\n",
       "    <tr>\n",
       "      <th>1</th>\n",
       "      <td>The Shoe Theory</td>\n",
       "      <td>Submission</td>\n",
       "      <td>Lip Dub</td>\n",
       "      <td>2022</td>\n",
       "      <td>TikTok</td>\n",
       "      <td>2022-12-13T12:06:30-05:00</td>\n",
       "      <td>9.0</td>\n",
       "      <td>6.0</td>\n",
       "      <td>0.0</td>\n",
       "      <td>0.0</td>\n",
       "      <td>shoes bad luck, shoe gift bad luck, bad omen s...</td>\n",
       "      <td>The Shoe Theory is a superstition that claims ...</td>\n",
       "      <td>The idea of shoes being bad luck as gifts has ...</td>\n",
       "      <td>Shoes are considered to be evil in Chinese cul...</td>\n",
       "      <td>NaN</td>\n",
       "    </tr>\n",
       "    <tr>\n",
       "      <th>2</th>\n",
       "      <td>She Was A X Girl He Was A X Boy</td>\n",
       "      <td>Submission</td>\n",
       "      <td>Exploitable</td>\n",
       "      <td>2022</td>\n",
       "      <td>Twitter</td>\n",
       "      <td>2022-12-13T11:07:04-05:00</td>\n",
       "      <td>98.0</td>\n",
       "      <td>0.0</td>\n",
       "      <td>11.0</td>\n",
       "      <td>0.0</td>\n",
       "      <td>she was a x girl, he was a x boy, she was a sp...</td>\n",
       "      <td>She Was A X Girl, He Was A X Boy is an exploit...</td>\n",
       "      <td>On November 22nd, 2022, Twitter[1] account @YT...</td>\n",
       "      <td>Spread On November 28th, 2022, Instagram[3] pa...</td>\n",
       "      <td>NaN</td>\n",
       "    </tr>\n",
       "    <tr>\n",
       "      <th>3</th>\n",
       "      <td>Qué Mira, Bobo? / Anda Palla Bobo</td>\n",
       "      <td>Submission</td>\n",
       "      <td>Viral Video</td>\n",
       "      <td>2022</td>\n",
       "      <td>Twitter</td>\n",
       "      <td>2022-12-13T09:47:55-05:00</td>\n",
       "      <td>173.0</td>\n",
       "      <td>0.0</td>\n",
       "      <td>7.0</td>\n",
       "      <td>0.0</td>\n",
       "      <td>twitter, messi, argentina, qatar world cup, ne...</td>\n",
       "      <td>Qué Mira, Bobo? or Anda Palla Bobo refers to a...</td>\n",
       "      <td>On December 10th, 2022, the Argentine National...</td>\n",
       "      <td>“Que miras bobo”DOBLAJE LATINO JAJAJA pic.twit...</td>\n",
       "      <td>NaN</td>\n",
       "    </tr>\n",
       "    <tr>\n",
       "      <th>4</th>\n",
       "      <td>NaN</td>\n",
       "      <td>NaN</td>\n",
       "      <td>NaN</td>\n",
       "      <td>NaN</td>\n",
       "      <td>NaN</td>\n",
       "      <td>NaN</td>\n",
       "      <td>NaN</td>\n",
       "      <td>NaN</td>\n",
       "      <td>NaN</td>\n",
       "      <td>NaN</td>\n",
       "      <td>NaN</td>\n",
       "      <td>NaN</td>\n",
       "      <td>NaN</td>\n",
       "      <td>NaN</td>\n",
       "      <td>403.0</td>\n",
       "    </tr>\n",
       "    <tr>\n",
       "      <th>...</th>\n",
       "      <td>...</td>\n",
       "      <td>...</td>\n",
       "      <td>...</td>\n",
       "      <td>...</td>\n",
       "      <td>...</td>\n",
       "      <td>...</td>\n",
       "      <td>...</td>\n",
       "      <td>...</td>\n",
       "      <td>...</td>\n",
       "      <td>...</td>\n",
       "      <td>...</td>\n",
       "      <td>...</td>\n",
       "      <td>...</td>\n",
       "      <td>...</td>\n",
       "      <td>...</td>\n",
       "    </tr>\n",
       "    <tr>\n",
       "      <th>155</th>\n",
       "      <td>Gotō-san, You Have A Huge Cock!</td>\n",
       "      <td>Submission</td>\n",
       "      <td>Catchphrase</td>\n",
       "      <td>2022</td>\n",
       "      <td>Twitter</td>\n",
       "      <td>2022-11-30T06:46:29-05:00</td>\n",
       "      <td>633.0</td>\n",
       "      <td>9.0</td>\n",
       "      <td>0.0</td>\n",
       "      <td>1.0</td>\n",
       "      <td>twiter, japan, vocal impersonation, bocchi the...</td>\n",
       "      <td>\"Gotō-san, You Have A Huge Cock!\" (Japanese: 後...</td>\n",
       "      <td>On November 10th, 2022, a female Twitter user,...</td>\n",
       "      <td>ぼっち・ざ・ろっく！のモノマネ pic.twitter.com/pxRMpjcInF — マ...</td>\n",
       "      <td>NaN</td>\n",
       "    </tr>\n",
       "    <tr>\n",
       "      <th>156</th>\n",
       "      <td>Tummy Ache</td>\n",
       "      <td>Submission</td>\n",
       "      <td>Catchphrase</td>\n",
       "      <td>2019</td>\n",
       "      <td>Reddit</td>\n",
       "      <td>2022-11-30T06:17:52-05:00</td>\n",
       "      <td>664.0</td>\n",
       "      <td>0.0</td>\n",
       "      <td>33.0</td>\n",
       "      <td>1.0</td>\n",
       "      <td>tummy ache, tummy hurts, being brave, i'm gonn...</td>\n",
       "      <td>Tummy Ache or Tummy Hurts refers to a series o...</td>\n",
       "      <td>Prior to December 22nd, 2019, an unknown Reddi...</td>\n",
       "      <td>On April 27th, 2020, Twitter[2] user @Caucasia...</td>\n",
       "      <td>NaN</td>\n",
       "    </tr>\n",
       "    <tr>\n",
       "      <th>157</th>\n",
       "      <td>Cristiano Ronaldo's Goal Celebration (Portugal...</td>\n",
       "      <td>Submission</td>\n",
       "      <td>Competition</td>\n",
       "      <td>2022</td>\n",
       "      <td>Twitter</td>\n",
       "      <td>2022-11-29T21:16:32-05:00</td>\n",
       "      <td>1062.0</td>\n",
       "      <td>1.0</td>\n",
       "      <td>3.0</td>\n",
       "      <td>0.0</td>\n",
       "      <td>cristiano ronaldo, fifa, qatar world cup, brun...</td>\n",
       "      <td>Cristiano Ronaldo Goal Celebration refers to a...</td>\n",
       "      <td>On November 28nd, 2022, Portugal beat Uruguay ...</td>\n",
       "      <td>Spread Shortly afterward Ronaldo's celebration...</td>\n",
       "      <td>NaN</td>\n",
       "    </tr>\n",
       "    <tr>\n",
       "      <th>158</th>\n",
       "      <td>The Character / The Voice</td>\n",
       "      <td>Submission</td>\n",
       "      <td>Catchphrase</td>\n",
       "      <td>2021</td>\n",
       "      <td>Twitter</td>\n",
       "      <td>2022-11-29T16:51:40-05:00</td>\n",
       "      <td>2941.0</td>\n",
       "      <td>0.0</td>\n",
       "      <td>10.0</td>\n",
       "      <td>4.0</td>\n",
       "      <td>twitter trend, voice actor challenge, characte...</td>\n",
       "      <td>The Character / The Voice is a quote retweet t...</td>\n",
       "      <td>On December 30th, 2021, Twitter[1] user @Patri...</td>\n",
       "      <td>Spread On November 28th, 2022, Twitter[4] user...</td>\n",
       "      <td>NaN</td>\n",
       "    </tr>\n",
       "    <tr>\n",
       "      <th>159</th>\n",
       "      <td>NaN</td>\n",
       "      <td>NaN</td>\n",
       "      <td>NaN</td>\n",
       "      <td>NaN</td>\n",
       "      <td>NaN</td>\n",
       "      <td>NaN</td>\n",
       "      <td>NaN</td>\n",
       "      <td>NaN</td>\n",
       "      <td>NaN</td>\n",
       "      <td>NaN</td>\n",
       "      <td>NaN</td>\n",
       "      <td>NaN</td>\n",
       "      <td>NaN</td>\n",
       "      <td>NaN</td>\n",
       "      <td>403.0</td>\n",
       "    </tr>\n",
       "  </tbody>\n",
       "</table>\n",
       "<p>160 rows × 15 columns</p>\n",
       "</div>"
      ],
      "text/plain": [
       "                                                  name      status  \\\n",
       "0                            Adarsh Balak / आदर्श बालक  Submission   \n",
       "1                                      The Shoe Theory  Submission   \n",
       "2                      She Was A X Girl He Was A X Boy  Submission   \n",
       "3                    Qué Mira, Bobo? / Anda Palla Bobo  Submission   \n",
       "4                                                  NaN         NaN   \n",
       "..                                                 ...         ...   \n",
       "155                    Gotō-san, You Have A Huge Cock!  Submission   \n",
       "156                                         Tummy Ache  Submission   \n",
       "157  Cristiano Ronaldo's Goal Celebration (Portugal...  Submission   \n",
       "158                          The Character / The Voice  Submission   \n",
       "159                                                NaN         NaN   \n",
       "\n",
       "            type origin_year origin_place                 date_added   views  \\\n",
       "0         Parody        2014     Facebook  2022-12-13T12:10:32-05:00    13.0   \n",
       "1        Lip Dub        2022       TikTok  2022-12-13T12:06:30-05:00     9.0   \n",
       "2    Exploitable        2022      Twitter  2022-12-13T11:07:04-05:00    98.0   \n",
       "3    Viral Video        2022      Twitter  2022-12-13T09:47:55-05:00   173.0   \n",
       "4            NaN         NaN          NaN                        NaN     NaN   \n",
       "..           ...         ...          ...                        ...     ...   \n",
       "155  Catchphrase        2022      Twitter  2022-11-30T06:46:29-05:00   633.0   \n",
       "156  Catchphrase        2019       Reddit  2022-11-30T06:17:52-05:00   664.0   \n",
       "157  Competition        2022      Twitter  2022-11-29T21:16:32-05:00  1062.0   \n",
       "158  Catchphrase        2021      Twitter  2022-11-29T16:51:40-05:00  2941.0   \n",
       "159          NaN         NaN          NaN                        NaN     NaN   \n",
       "\n",
       "     videos  photos  comments  \\\n",
       "0       0.0     8.0       0.0   \n",
       "1       6.0     0.0       0.0   \n",
       "2       0.0    11.0       0.0   \n",
       "3       0.0     7.0       0.0   \n",
       "4       NaN     NaN       NaN   \n",
       "..      ...     ...       ...   \n",
       "155     9.0     0.0       1.0   \n",
       "156     0.0    33.0       1.0   \n",
       "157     1.0     3.0       0.0   \n",
       "158     0.0    10.0       4.0   \n",
       "159     NaN     NaN       NaN   \n",
       "\n",
       "                                                  tags  \\\n",
       "0                                  adarsh balak, comic   \n",
       "1    shoes bad luck, shoe gift bad luck, bad omen s...   \n",
       "2    she was a x girl, he was a x boy, she was a sp...   \n",
       "3    twitter, messi, argentina, qatar world cup, ne...   \n",
       "4                                                  NaN   \n",
       "..                                                 ...   \n",
       "155  twiter, japan, vocal impersonation, bocchi the...   \n",
       "156  tummy ache, tummy hurts, being brave, i'm gonn...   \n",
       "157  cristiano ronaldo, fifa, qatar world cup, brun...   \n",
       "158  twitter trend, voice actor challenge, characte...   \n",
       "159                                                NaN   \n",
       "\n",
       "                                                 about  \\\n",
       "0    Adarsh Balak, also known by its Hindi transcri...   \n",
       "1    The Shoe Theory is a superstition that claims ...   \n",
       "2    She Was A X Girl, He Was A X Boy is an exploit...   \n",
       "3    Qué Mira, Bobo? or Anda Palla Bobo refers to a...   \n",
       "4                                                  NaN   \n",
       "..                                                 ...   \n",
       "155  \"Gotō-san, You Have A Huge Cock!\" (Japanese: 後...   \n",
       "156  Tummy Ache or Tummy Hurts refers to a series o...   \n",
       "157  Cristiano Ronaldo Goal Celebration refers to a...   \n",
       "158  The Character / The Voice is a quote retweet t...   \n",
       "159                                                NaN   \n",
       "\n",
       "                                                origin  \\\n",
       "0                                                        \n",
       "1    The idea of shoes being bad luck as gifts has ...   \n",
       "2    On November 22nd, 2022, Twitter[1] account @YT...   \n",
       "3    On December 10th, 2022, the Argentine National...   \n",
       "4                                                  NaN   \n",
       "..                                                 ...   \n",
       "155  On November 10th, 2022, a female Twitter user,...   \n",
       "156  Prior to December 22nd, 2019, an unknown Reddi...   \n",
       "157  On November 28nd, 2022, Portugal beat Uruguay ...   \n",
       "158  On December 30th, 2021, Twitter[1] user @Patri...   \n",
       "159                                                NaN   \n",
       "\n",
       "                                            other_text      0  \n",
       "0    On May 3rd, 2014, Adarsh Balak's official Face...    NaN  \n",
       "1    Shoes are considered to be evil in Chinese cul...    NaN  \n",
       "2    Spread On November 28th, 2022, Instagram[3] pa...    NaN  \n",
       "3    “Que miras bobo”DOBLAJE LATINO JAJAJA pic.twit...    NaN  \n",
       "4                                                  NaN  403.0  \n",
       "..                                                 ...    ...  \n",
       "155  ぼっち・ざ・ろっく！のモノマネ pic.twitter.com/pxRMpjcInF — マ...    NaN  \n",
       "156  On April 27th, 2020, Twitter[2] user @Caucasia...    NaN  \n",
       "157  Spread Shortly afterward Ronaldo's celebration...    NaN  \n",
       "158  Spread On November 28th, 2022, Twitter[4] user...    NaN  \n",
       "159                                                NaN  403.0  \n",
       "\n",
       "[160 rows x 15 columns]"
      ]
     },
     "execution_count": 37,
     "metadata": {},
     "output_type": "execute_result"
    }
   ],
   "source": [
    "data"
   ]
  }
 ],
 "metadata": {
  "kernelspec": {
   "display_name": "Python 3 (ipykernel)",
   "language": "python",
   "name": "python3"
  },
  "language_info": {
   "codemirror_mode": {
    "name": "ipython",
    "version": 3
   },
   "file_extension": ".py",
   "mimetype": "text/x-python",
   "name": "python",
   "nbconvert_exporter": "python",
   "pygments_lexer": "ipython3",
   "version": "3.9.15"
  },
  "toc": {
   "base_numbering": "1",
   "nav_menu": {},
   "number_sections": false,
   "sideBar": true,
   "skip_h1_title": false,
   "title_cell": "Содержание",
   "title_sidebar": "Содержание",
   "toc_cell": false,
   "toc_position": {},
   "toc_section_display": true,
   "toc_window_display": false
  }
 },
 "nbformat": 4,
 "nbformat_minor": 5
}
